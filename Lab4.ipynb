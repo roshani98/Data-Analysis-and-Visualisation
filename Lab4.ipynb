{
  "nbformat": 4,
  "nbformat_minor": 0,
  "metadata": {
    "colab": {
      "name": "201601408_Lab4.ipynb",
      "version": "0.3.2",
      "provenance": [],
      "include_colab_link": true
    },
    "kernelspec": {
      "name": "python3",
      "display_name": "Python 3"
    }
  },
  "cells": [
    {
      "cell_type": "markdown",
      "metadata": {
        "id": "view-in-github",
        "colab_type": "text"
      },
      "source": [
        "<a href=\"https://colab.research.google.com/github/nishi1612/CS306-Data-Analysis-and-Visualization/blob/master/201601408_Lab4.ipynb\" target=\"_parent\"><img src=\"https://colab.research.google.com/assets/colab-badge.svg\" alt=\"Open In Colab\"/></a>"
      ]
    },
    {
      "metadata": {
        "id": "IrWd2uQmn6tW",
        "colab_type": "code",
        "outputId": "a9ee2045-5c80-47cc-ce21-0f893059854e",
        "colab": {
          "base_uri": "https://localhost:8080/",
          "height": 216
        }
      },
      "cell_type": "code",
      "source": [
        "!pip install PyDrive\n",
        "import os\n",
        "from pydrive.auth import GoogleAuth\n",
        "from pydrive.drive import GoogleDrive\n",
        "from google.colab import auth\n",
        "from oauth2client.client import GoogleCredentials\n",
        "import pandas as pd\n",
        "from google.colab import files\n",
        "import numpy as np\n",
        "import matplotlib.pyplot as plt\n",
        "from scipy import stats\n",
        "import math\n",
        "import seaborn as sns\n",
        "from sklearn import preprocessing\n",
        "from scipy.stats import norm\n",
        "from scipy.stats import iqr"
      ],
      "execution_count": 0,
      "outputs": [
        {
          "output_type": "stream",
          "text": [
            "Requirement already satisfied: PyDrive in /usr/local/lib/python3.6/dist-packages (1.3.1)\n",
            "Requirement already satisfied: google-api-python-client>=1.2 in /usr/local/lib/python3.6/dist-packages (from PyDrive) (1.6.7)\n",
            "Requirement already satisfied: oauth2client>=4.0.0 in /usr/local/lib/python3.6/dist-packages (from PyDrive) (4.1.3)\n",
            "Requirement already satisfied: PyYAML>=3.0 in /usr/local/lib/python3.6/dist-packages (from PyDrive) (3.13)\n",
            "Requirement already satisfied: six<2dev,>=1.6.1 in /usr/local/lib/python3.6/dist-packages (from google-api-python-client>=1.2->PyDrive) (1.11.0)\n",
            "Requirement already satisfied: httplib2<1dev,>=0.9.2 in /usr/local/lib/python3.6/dist-packages (from google-api-python-client>=1.2->PyDrive) (0.11.3)\n",
            "Requirement already satisfied: uritemplate<4dev,>=3.0.0 in /usr/local/lib/python3.6/dist-packages (from google-api-python-client>=1.2->PyDrive) (3.0.0)\n",
            "Requirement already satisfied: pyasn1-modules>=0.0.5 in /usr/local/lib/python3.6/dist-packages (from oauth2client>=4.0.0->PyDrive) (0.2.4)\n",
            "Requirement already satisfied: rsa>=3.1.4 in /usr/local/lib/python3.6/dist-packages (from oauth2client>=4.0.0->PyDrive) (4.0)\n",
            "Requirement already satisfied: pyasn1>=0.1.7 in /usr/local/lib/python3.6/dist-packages (from oauth2client>=4.0.0->PyDrive) (0.4.5)\n"
          ],
          "name": "stdout"
        }
      ]
    },
    {
      "metadata": {
        "id": "KTFhIFVcojoU",
        "colab_type": "code",
        "colab": {}
      },
      "cell_type": "code",
      "source": [
        "auth.authenticate_user()\n",
        "gauth = GoogleAuth()\n",
        "gauth.credentials = GoogleCredentials.get_application_default()\n",
        "drive = GoogleDrive(gauth)"
      ],
      "execution_count": 0,
      "outputs": []
    },
    {
      "metadata": {
        "id": "4sQPWekYon1l",
        "colab_type": "code",
        "colab": {}
      },
      "cell_type": "code",
      "source": [
        "download = drive.CreateFile({'id': '1cdGFghBnmVSV1xF85kZ90Y5cRQN7pWmq'})\n",
        "download.GetContentFile('test.csv')"
      ],
      "execution_count": 0,
      "outputs": []
    },
    {
      "metadata": {
        "id": "z4MO_nLtopBB",
        "colab_type": "code",
        "colab": {}
      },
      "cell_type": "code",
      "source": [
        "df = pd.read_csv('test.csv')"
      ],
      "execution_count": 0,
      "outputs": []
    },
    {
      "metadata": {
        "id": "VfBMFTltoypS",
        "colab_type": "code",
        "colab": {}
      },
      "cell_type": "code",
      "source": [
        "copy_one = df"
      ],
      "execution_count": 0,
      "outputs": []
    },
    {
      "metadata": {
        "id": "EjgQA80Ro1eX",
        "colab_type": "code",
        "colab": {}
      },
      "cell_type": "code",
      "source": [
        "f = df"
      ],
      "execution_count": 0,
      "outputs": []
    },
    {
      "metadata": {
        "id": "vF0shOQpo42H",
        "colab_type": "code",
        "colab": {}
      },
      "cell_type": "code",
      "source": [
        "to_drop = [\"Year\", \"Month\", \"DayofMonth\", \"DayOfWeek\", \n",
        "           \"DepTime\", \"CRSDepTime\", \"ArrTime\", \"CRSArrTime\", \"UniqueCarrier\", \n",
        "           \"FlightNum\", \"TailNum\", \"ActualElapsedTime\", \"CRSElapsedTime\",\"ArrDelay\", \"DepDelay\", \"Origin\", \"Dest\",\n",
        "           \"TaxiIn\", \"TaxiOut\", \"Cancelled\", \"CancellationCode\", \"Diverted\", \n",
        "           \"CarrierDelay\", \"WeatherDelay\", \"NASDelay\", \"SecurityDelay\", \n",
        "           \"LateAircraftDelay\"]\n",
        "f.drop(to_drop, inplace=True, axis=1)"
      ],
      "execution_count": 0,
      "outputs": []
    },
    {
      "metadata": {
        "id": "tUm9r4eRo7Pz",
        "colab_type": "code",
        "colab": {}
      },
      "cell_type": "code",
      "source": [
        "f = f[np.isfinite(f['AirTime'])]\n",
        "f = f[np.isfinite(f['Distance'])]"
      ],
      "execution_count": 0,
      "outputs": []
    },
    {
      "metadata": {
        "id": "GVd4Cio3o9fD",
        "colab_type": "code",
        "colab": {}
      },
      "cell_type": "code",
      "source": [
        "X = f['Distance'].values\n",
        "Y = f['AirTime'].values"
      ],
      "execution_count": 0,
      "outputs": []
    },
    {
      "metadata": {
        "id": "CS_IQZ-9qBpM",
        "colab_type": "code",
        "outputId": "2cceac78-d1f1-4f47-fe25-88b2395fdeb0",
        "colab": {
          "base_uri": "https://localhost:8080/",
          "height": 51
        }
      },
      "cell_type": "code",
      "source": [
        "X, Y"
      ],
      "execution_count": 0,
      "outputs": [
        {
          "output_type": "execute_result",
          "data": {
            "text/plain": [
              "(array([810, 810, 515, ..., 545, 533, 874]),\n",
              " array([116., 113.,  76., ...,  85.,  89., 104.]))"
            ]
          },
          "metadata": {
            "tags": []
          },
          "execution_count": 71
        }
      ]
    },
    {
      "metadata": {
        "id": "pO0vE0s67CVz",
        "colab_type": "text"
      },
      "cell_type": "markdown",
      "source": [
        "**Question 1**"
      ]
    },
    {
      "metadata": {
        "id": "oPs_ayqHqxil",
        "colab_type": "code",
        "colab": {}
      },
      "cell_type": "code",
      "source": [
        "def slope_intercept(x,y):\n",
        "  m = (np.mean(x) * np.mean(y) - np.mean(x*y) ) / (np.mean(x) * np.mean(x) - np.mean(x*x))\n",
        "  m = round(m,4)\n",
        "  b = np.mean(y) - (np.mean(x) * m)\n",
        "  b = round(b,4)\n",
        "  return b,m"
      ],
      "execution_count": 0,
      "outputs": []
    },
    {
      "metadata": {
        "id": "I4Dzb16PrQuC",
        "colab_type": "code",
        "colab": {}
      },
      "cell_type": "code",
      "source": [
        "b,m = slope_intercept(X,Y)"
      ],
      "execution_count": 0,
      "outputs": []
    },
    {
      "metadata": {
        "id": "abhkfKdhrT47",
        "colab_type": "code",
        "outputId": "34849a60-98d1-4e72-c8f5-1af1a6a0fe00",
        "colab": {
          "base_uri": "https://localhost:8080/",
          "height": 51
        }
      },
      "cell_type": "code",
      "source": [
        "print(\"Intercept : \" + str(b))\n",
        "print(\"Slope : \" + str(m))"
      ],
      "execution_count": 0,
      "outputs": [
        {
          "output_type": "stream",
          "text": [
            "Intercept : 18.2454\n",
            "Slope : 0.1177\n"
          ],
          "name": "stdout"
        }
      ]
    },
    {
      "metadata": {
        "id": "RavyAzw-rVRM",
        "colab_type": "code",
        "colab": {}
      },
      "cell_type": "code",
      "source": [
        "y_predicted = m*X + b"
      ],
      "execution_count": 0,
      "outputs": []
    },
    {
      "metadata": {
        "id": "OKBDLf29sM0-",
        "colab_type": "code",
        "outputId": "81ee62cb-8121-442f-c553-6d571d480060",
        "colab": {
          "base_uri": "https://localhost:8080/",
          "height": 34
        }
      },
      "cell_type": "code",
      "source": [
        "rmse = 0\n",
        "for i in range(len(Y)):\n",
        "  rmse = rmse + ((Y[i]-y_predicted[i])**2)\n",
        "rmse = math.sqrt(rmse/len(Y))\n",
        "print(\"Rmse : \" + str(rmse))"
      ],
      "execution_count": 0,
      "outputs": [
        {
          "output_type": "stream",
          "text": [
            "Rmse : 12.427075557562077\n"
          ],
          "name": "stdout"
        }
      ]
    },
    {
      "metadata": {
        "id": "vNsp9r5d7GHU",
        "colab_type": "text"
      },
      "cell_type": "markdown",
      "source": [
        "**Question 2 : Part 1 : 95% confidence interval for value of slope**"
      ]
    },
    {
      "metadata": {
        "id": "GPuc1ITWsuDb",
        "colab_type": "code",
        "outputId": "9f3a4e7a-06c0-4782-9551-44fa6c167c43",
        "colab": {
          "base_uri": "https://localhost:8080/",
          "height": 51
        }
      },
      "cell_type": "code",
      "source": [
        "sx = np.sqrt(np.sum((X - np.mean(X))**2))\n",
        "val = 1.96\n",
        "upper = m + val*np.std(Y)/sx\n",
        "lower = m - val*np.std(Y)/sx\n",
        "\n",
        "lower = round(lower,4)\n",
        "upper = round(upper,4)\n",
        "\n",
        "print(\"Lower bound : \" + str(lower))\n",
        "print(\"Upper bound : \" + str(upper))"
      ],
      "execution_count": 0,
      "outputs": [
        {
          "output_type": "stream",
          "text": [
            "Lower bound : 0.1176\n",
            "Upper bound : 0.1178\n"
          ],
          "name": "stdout"
        }
      ]
    },
    {
      "metadata": {
        "id": "P2oiJsfx7Q0G",
        "colab_type": "text"
      },
      "cell_type": "markdown",
      "source": [
        "**Question 2 : Part 2 : 95% confidence interval for value of y_0**"
      ]
    },
    {
      "metadata": {
        "id": "vuIHPnyG5g7s",
        "colab_type": "code",
        "outputId": "9b6ae789-ee68-4ca8-9f62-4bc7c560f87c",
        "colab": {
          "base_uri": "https://localhost:8080/",
          "height": 51
        }
      },
      "cell_type": "code",
      "source": [
        "Xo = 1200\n",
        "n = len(X)\n",
        "y_1 = m*Xo + b\n",
        "s = np.sum((Y - y_predicted)**2)/(n - 2)\n",
        "k = np.sqrt((1/n) + (Xo - np.mean(X))/(np.sum((X - np.mean(X))**2)))\n",
        "lower1 = y_1 - s*k\n",
        "upper1 = y_1 + s*k\n",
        "\n",
        "lower1 = round(lower1,4)\n",
        "upper1 = round(upper1,4)\n",
        "print(\"Lower bound : \" + str(lower1))\n",
        "print(\"Upper bound : \" + str(upper1))"
      ],
      "execution_count": 0,
      "outputs": [
        {
          "output_type": "stream",
          "text": [
            "Lower bound : 159.4264\n",
            "Upper bound : 159.5444\n"
          ],
          "name": "stdout"
        }
      ]
    },
    {
      "metadata": {
        "id": "OiO43eOI7XoR",
        "colab_type": "text"
      },
      "cell_type": "markdown",
      "source": [
        "**Question 3**"
      ]
    },
    {
      "metadata": {
        "id": "28ed-lee5tut",
        "colab_type": "code",
        "colab": {}
      },
      "cell_type": "code",
      "source": [
        "weight_y = []\n",
        "d = Y - y_predicted\n",
        "s = iqr(d)\n",
        "for i in range(len(X)):\n",
        "  u = d[i]/(3*s)\n",
        "  if(u > 1):\n",
        "    weight_y.append(0)\n",
        "  else:\n",
        "    num = (1 - u**2)**2\n",
        "    weight_y.append(num)"
      ],
      "execution_count": 0,
      "outputs": []
    },
    {
      "metadata": {
        "id": "k6cxB_Wj56Av",
        "colab_type": "code",
        "outputId": "a11ab063-3fdf-401d-ee47-b5d090e24b1b",
        "colab": {
          "base_uri": "https://localhost:8080/",
          "height": 51
        }
      },
      "cell_type": "code",
      "source": [
        "sum1 = 0\n",
        "normx = X - np.mean(X)\n",
        "normy = Y - np.mean(Y)\n",
        "for i in range(len(weight_y)):\n",
        "  sum1 += weight_y[i]*normx[i]*normy[i]\n",
        "  \n",
        "m1 = sum1/np.dot(weight_y,normx**2)\n",
        "y_weighted = np.dot(weight_y,Y)/np.sum(weight_y)\n",
        "x_weighted = np.dot(weight_y,X)/np.sum(weight_y)\n",
        "\n",
        "b1 = y_weighted - slope*x_weighted\n",
        "\n",
        "m1 = round(slope,4)\n",
        "b1 = round(intercept,4)\n",
        "\n",
        "print(\"Slope : \" + str(m1))\n",
        "print(\"Intercept : \" + str(b1))"
      ],
      "execution_count": 0,
      "outputs": [
        {
          "output_type": "stream",
          "text": [
            "Slope : 0.1158\n",
            "Intercept : 18.2908\n"
          ],
          "name": "stdout"
        }
      ]
    },
    {
      "metadata": {
        "id": "Na4m9abR6TZT",
        "colab_type": "code",
        "colab": {}
      },
      "cell_type": "code",
      "source": [
        "y_predicted_2 = b1 + m1*X"
      ],
      "execution_count": 0,
      "outputs": []
    },
    {
      "metadata": {
        "id": "_7PB5Nw46Wzb",
        "colab_type": "code",
        "outputId": "fe2f6a31-797e-494b-820d-02690d28ef99",
        "colab": {
          "base_uri": "https://localhost:8080/",
          "height": 34
        }
      },
      "cell_type": "code",
      "source": [
        "rmse = 0\n",
        "for i in range(len(Y)):\n",
        "  rmse = rmse + (y_predicted_2[i] - Y[i])**2\n",
        "\n",
        "rmse = rmse/len(Y)\n",
        "rmse = math.sqrt(rmse)\n",
        "rmse = round(rmse,4)\n",
        "print(\"Rmse : \" + str(rmse))"
      ],
      "execution_count": 0,
      "outputs": [
        {
          "output_type": "stream",
          "text": [
            "Rmse : 12.544\n"
          ],
          "name": "stdout"
        }
      ]
    }
  ]
}